{
 "cells": [
  {
   "cell_type": "markdown",
   "id": "13130f53",
   "metadata": {},
   "source": [
    "# 1. Chapter : 상호작용 맵\n",
    "folium 패키지를 사용하여 상호작용 지도를 만드는 방법"
   ]
  },
  {
   "cell_type": "code",
   "execution_count": 1,
   "id": "55a20aa5",
   "metadata": {},
   "outputs": [],
   "source": [
    "import pandas as pd\n",
    "import geopandas as gpd\n",
    "import math\n",
    "import folium\n",
    "from folium import Choropleth, Circle, Marker\n",
    "from folium.plugins import HeatMap, MarkerCluster"
   ]
  },
  {
   "cell_type": "markdown",
   "id": "bd48d950",
   "metadata": {},
   "source": [
    "## 1-1. 첫 번째 상호작용 맵\n",
    "`folium.Map()`을 활용한 지도 만들기"
   ]
  },
  {
   "cell_type": "code",
   "execution_count": 40,
   "id": "d83637b9",
   "metadata": {
    "scrolled": true
   },
   "outputs": [],
   "source": [
    "# 배경 맵 만들기\n",
    "m_1 = folium.Map(location=[42.32, -71.0589], tiles='openstreetmap', zoom_start=10)\n",
    "m_1"
   ]
  },
  {
   "cell_type": "markdown",
   "id": "cbbd0b88",
   "metadata": {},
   "source": [
    "## 1-2. 데이터 불러오기\n",
    "범죄 데이터셋 불러오고 맵에 표현하기"
   ]
  },
  {
   "cell_type": "code",
   "execution_count": 3,
   "id": "976a6a1a",
   "metadata": {
    "scrolled": true
   },
   "outputs": [
    {
     "data": {
      "text/html": [
       "<div>\n",
       "<style scoped>\n",
       "    .dataframe tbody tr th:only-of-type {\n",
       "        vertical-align: middle;\n",
       "    }\n",
       "\n",
       "    .dataframe tbody tr th {\n",
       "        vertical-align: top;\n",
       "    }\n",
       "\n",
       "    .dataframe thead th {\n",
       "        text-align: right;\n",
       "    }\n",
       "</style>\n",
       "<table border=\"1\" class=\"dataframe\">\n",
       "  <thead>\n",
       "    <tr style=\"text-align: right;\">\n",
       "      <th></th>\n",
       "      <th>INCIDENT_NUMBER</th>\n",
       "      <th>OFFENSE_CODE</th>\n",
       "      <th>OFFENSE_CODE_GROUP</th>\n",
       "      <th>OFFENSE_DESCRIPTION</th>\n",
       "      <th>DISTRICT</th>\n",
       "      <th>REPORTING_AREA</th>\n",
       "      <th>SHOOTING</th>\n",
       "      <th>OCCURRED_ON_DATE</th>\n",
       "      <th>YEAR</th>\n",
       "      <th>MONTH</th>\n",
       "      <th>DAY_OF_WEEK</th>\n",
       "      <th>HOUR</th>\n",
       "      <th>UCR_PART</th>\n",
       "      <th>STREET</th>\n",
       "      <th>Lat</th>\n",
       "      <th>Long</th>\n",
       "      <th>Location</th>\n",
       "    </tr>\n",
       "  </thead>\n",
       "  <tbody>\n",
       "    <tr>\n",
       "      <th>0</th>\n",
       "      <td>I182070945</td>\n",
       "      <td>619</td>\n",
       "      <td>Larceny</td>\n",
       "      <td>LARCENY ALL OTHERS</td>\n",
       "      <td>D14</td>\n",
       "      <td>808</td>\n",
       "      <td>NaN</td>\n",
       "      <td>2018-09-02 13:00:00</td>\n",
       "      <td>2018</td>\n",
       "      <td>9</td>\n",
       "      <td>Sunday</td>\n",
       "      <td>13</td>\n",
       "      <td>Part One</td>\n",
       "      <td>LINCOLN ST</td>\n",
       "      <td>42.357791</td>\n",
       "      <td>-71.139371</td>\n",
       "      <td>(42.35779134, -71.13937053)</td>\n",
       "    </tr>\n",
       "    <tr>\n",
       "      <th>6</th>\n",
       "      <td>I182070933</td>\n",
       "      <td>724</td>\n",
       "      <td>Auto Theft</td>\n",
       "      <td>AUTO THEFT</td>\n",
       "      <td>B2</td>\n",
       "      <td>330</td>\n",
       "      <td>NaN</td>\n",
       "      <td>2018-09-03 21:25:00</td>\n",
       "      <td>2018</td>\n",
       "      <td>9</td>\n",
       "      <td>Monday</td>\n",
       "      <td>21</td>\n",
       "      <td>Part One</td>\n",
       "      <td>NORMANDY ST</td>\n",
       "      <td>42.306072</td>\n",
       "      <td>-71.082733</td>\n",
       "      <td>(42.30607218, -71.08273260)</td>\n",
       "    </tr>\n",
       "    <tr>\n",
       "      <th>8</th>\n",
       "      <td>I182070931</td>\n",
       "      <td>301</td>\n",
       "      <td>Robbery</td>\n",
       "      <td>ROBBERY - STREET</td>\n",
       "      <td>C6</td>\n",
       "      <td>177</td>\n",
       "      <td>NaN</td>\n",
       "      <td>2018-09-03 20:48:00</td>\n",
       "      <td>2018</td>\n",
       "      <td>9</td>\n",
       "      <td>Monday</td>\n",
       "      <td>20</td>\n",
       "      <td>Part One</td>\n",
       "      <td>MASSACHUSETTS AVE</td>\n",
       "      <td>42.331521</td>\n",
       "      <td>-71.070853</td>\n",
       "      <td>(42.33152148, -71.07085307)</td>\n",
       "    </tr>\n",
       "    <tr>\n",
       "      <th>19</th>\n",
       "      <td>I182070915</td>\n",
       "      <td>614</td>\n",
       "      <td>Larceny From Motor Vehicle</td>\n",
       "      <td>LARCENY THEFT FROM MV - NON-ACCESSORY</td>\n",
       "      <td>B2</td>\n",
       "      <td>181</td>\n",
       "      <td>NaN</td>\n",
       "      <td>2018-09-02 18:00:00</td>\n",
       "      <td>2018</td>\n",
       "      <td>9</td>\n",
       "      <td>Sunday</td>\n",
       "      <td>18</td>\n",
       "      <td>Part One</td>\n",
       "      <td>SHIRLEY ST</td>\n",
       "      <td>42.325695</td>\n",
       "      <td>-71.068168</td>\n",
       "      <td>(42.32569490, -71.06816778)</td>\n",
       "    </tr>\n",
       "    <tr>\n",
       "      <th>24</th>\n",
       "      <td>I182070908</td>\n",
       "      <td>522</td>\n",
       "      <td>Residential Burglary</td>\n",
       "      <td>BURGLARY - RESIDENTIAL - NO FORCE</td>\n",
       "      <td>B2</td>\n",
       "      <td>911</td>\n",
       "      <td>NaN</td>\n",
       "      <td>2018-09-03 18:38:00</td>\n",
       "      <td>2018</td>\n",
       "      <td>9</td>\n",
       "      <td>Monday</td>\n",
       "      <td>18</td>\n",
       "      <td>Part One</td>\n",
       "      <td>ANNUNCIATION RD</td>\n",
       "      <td>42.335062</td>\n",
       "      <td>-71.093168</td>\n",
       "      <td>(42.33506218, -71.09316781)</td>\n",
       "    </tr>\n",
       "  </tbody>\n",
       "</table>\n",
       "</div>"
      ],
      "text/plain": [
       "   INCIDENT_NUMBER  OFFENSE_CODE          OFFENSE_CODE_GROUP  \\\n",
       "0       I182070945           619                     Larceny   \n",
       "6       I182070933           724                  Auto Theft   \n",
       "8       I182070931           301                     Robbery   \n",
       "19      I182070915           614  Larceny From Motor Vehicle   \n",
       "24      I182070908           522        Residential Burglary   \n",
       "\n",
       "                      OFFENSE_DESCRIPTION DISTRICT REPORTING_AREA SHOOTING  \\\n",
       "0                      LARCENY ALL OTHERS      D14            808      NaN   \n",
       "6                              AUTO THEFT       B2            330      NaN   \n",
       "8                        ROBBERY - STREET       C6            177      NaN   \n",
       "19  LARCENY THEFT FROM MV - NON-ACCESSORY       B2            181      NaN   \n",
       "24      BURGLARY - RESIDENTIAL - NO FORCE       B2            911      NaN   \n",
       "\n",
       "       OCCURRED_ON_DATE  YEAR  MONTH DAY_OF_WEEK  HOUR  UCR_PART  \\\n",
       "0   2018-09-02 13:00:00  2018      9      Sunday    13  Part One   \n",
       "6   2018-09-03 21:25:00  2018      9      Monday    21  Part One   \n",
       "8   2018-09-03 20:48:00  2018      9      Monday    20  Part One   \n",
       "19  2018-09-02 18:00:00  2018      9      Sunday    18  Part One   \n",
       "24  2018-09-03 18:38:00  2018      9      Monday    18  Part One   \n",
       "\n",
       "               STREET        Lat       Long                     Location  \n",
       "0          LINCOLN ST  42.357791 -71.139371  (42.35779134, -71.13937053)  \n",
       "6         NORMANDY ST  42.306072 -71.082733  (42.30607218, -71.08273260)  \n",
       "8   MASSACHUSETTS AVE  42.331521 -71.070853  (42.33152148, -71.07085307)  \n",
       "19         SHIRLEY ST  42.325695 -71.068168  (42.32569490, -71.06816778)  \n",
       "24    ANNUNCIATION RD  42.335062 -71.093168  (42.33506218, -71.09316781)  "
      ]
     },
     "execution_count": 3,
     "metadata": {},
     "output_type": "execute_result"
    }
   ],
   "source": [
    "# load data\n",
    "crimes = pd.read_csv(\"../../01_data/crimes-in-boston/crimes-in-boston/crime.csv\", encoding='latin-1')\n",
    "\n",
    "# 주소가 존재하지 않는 지역의 데이터를 삭제\n",
    "crimes.dropna(subset=['Lat', 'Long', 'DISTRICT'], inplace=True)\n",
    "\n",
    "# 2018년에 발생한 주요 범죄를 확인\n",
    "crimes = crimes[crimes.OFFENSE_CODE_GROUP.isin(['Larceny', 'Auto Theft', 'Robbery', 'Larceny From Motor Vehicle', 'Residential Burglary',\n",
    "    'Simple Assault', 'Harassment', 'Ballistics', 'Aggravated Assault', 'Other Burglary', \n",
    "    'Arson', 'Commercial Burglary', 'HOME INVASION', 'Homicide', 'Criminal Harassment', 'Manslaughter'])]\n",
    "\n",
    "crimes = crimes[crimes.YEAR >= 2018]\n",
    "\n",
    "# 5개 행 출력\n",
    "crimes.head()"
   ]
  },
  {
   "cell_type": "markdown",
   "id": "d3a74ec5",
   "metadata": {},
   "source": [
    "## 1-3. 포인트 표현하기\n",
    "대량의 데이터를 줄이기 위해 9-18시 사이에 발생한 절도범죄 데이터만 사용"
   ]
  },
  {
   "cell_type": "code",
   "execution_count": 4,
   "id": "f1f2b205",
   "metadata": {},
   "outputs": [
    {
     "data": {
      "text/html": [
       "<div>\n",
       "<style scoped>\n",
       "    .dataframe tbody tr th:only-of-type {\n",
       "        vertical-align: middle;\n",
       "    }\n",
       "\n",
       "    .dataframe tbody tr th {\n",
       "        vertical-align: top;\n",
       "    }\n",
       "\n",
       "    .dataframe thead th {\n",
       "        text-align: right;\n",
       "    }\n",
       "</style>\n",
       "<table border=\"1\" class=\"dataframe\">\n",
       "  <thead>\n",
       "    <tr style=\"text-align: right;\">\n",
       "      <th></th>\n",
       "      <th>INCIDENT_NUMBER</th>\n",
       "      <th>OFFENSE_CODE</th>\n",
       "      <th>OFFENSE_CODE_GROUP</th>\n",
       "      <th>OFFENSE_DESCRIPTION</th>\n",
       "      <th>DISTRICT</th>\n",
       "      <th>REPORTING_AREA</th>\n",
       "      <th>SHOOTING</th>\n",
       "      <th>OCCURRED_ON_DATE</th>\n",
       "      <th>YEAR</th>\n",
       "      <th>MONTH</th>\n",
       "      <th>DAY_OF_WEEK</th>\n",
       "      <th>HOUR</th>\n",
       "      <th>UCR_PART</th>\n",
       "      <th>STREET</th>\n",
       "      <th>Lat</th>\n",
       "      <th>Long</th>\n",
       "      <th>Location</th>\n",
       "    </tr>\n",
       "  </thead>\n",
       "  <tbody>\n",
       "    <tr>\n",
       "      <th>299</th>\n",
       "      <td>I182070598</td>\n",
       "      <td>311</td>\n",
       "      <td>Robbery</td>\n",
       "      <td>ROBBERY - COMMERCIAL</td>\n",
       "      <td>A15</td>\n",
       "      <td>60</td>\n",
       "      <td>NaN</td>\n",
       "      <td>2018-09-02 17:15:00</td>\n",
       "      <td>2018</td>\n",
       "      <td>9</td>\n",
       "      <td>Sunday</td>\n",
       "      <td>17</td>\n",
       "      <td>Part One</td>\n",
       "      <td>RUTHERFORD AVE</td>\n",
       "      <td>42.371673</td>\n",
       "      <td>-71.063264</td>\n",
       "      <td>(42.37167264, -71.06326413)</td>\n",
       "    </tr>\n",
       "    <tr>\n",
       "      <th>527</th>\n",
       "      <td>I182070342</td>\n",
       "      <td>381</td>\n",
       "      <td>Robbery</td>\n",
       "      <td>ROBBERY - CAR JACKING</td>\n",
       "      <td>E18</td>\n",
       "      <td>490</td>\n",
       "      <td>NaN</td>\n",
       "      <td>2018-09-01 17:05:00</td>\n",
       "      <td>2018</td>\n",
       "      <td>9</td>\n",
       "      <td>Saturday</td>\n",
       "      <td>17</td>\n",
       "      <td>Part One</td>\n",
       "      <td>CUMMINS HWY</td>\n",
       "      <td>42.276453</td>\n",
       "      <td>-71.112980</td>\n",
       "      <td>(42.27645319, -71.11297971)</td>\n",
       "    </tr>\n",
       "  </tbody>\n",
       "</table>\n",
       "</div>"
      ],
      "text/plain": [
       "    INCIDENT_NUMBER  OFFENSE_CODE OFFENSE_CODE_GROUP    OFFENSE_DESCRIPTION  \\\n",
       "299      I182070598           311            Robbery   ROBBERY - COMMERCIAL   \n",
       "527      I182070342           381            Robbery  ROBBERY - CAR JACKING   \n",
       "\n",
       "    DISTRICT REPORTING_AREA SHOOTING     OCCURRED_ON_DATE  YEAR  MONTH  \\\n",
       "299      A15             60      NaN  2018-09-02 17:15:00  2018      9   \n",
       "527      E18            490      NaN  2018-09-01 17:05:00  2018      9   \n",
       "\n",
       "    DAY_OF_WEEK  HOUR  UCR_PART          STREET        Lat       Long  \\\n",
       "299      Sunday    17  Part One  RUTHERFORD AVE  42.371673 -71.063264   \n",
       "527    Saturday    17  Part One     CUMMINS HWY  42.276453 -71.112980   \n",
       "\n",
       "                        Location  \n",
       "299  (42.37167264, -71.06326413)  \n",
       "527  (42.27645319, -71.11297971)  "
      ]
     },
     "execution_count": 4,
     "metadata": {},
     "output_type": "execute_result"
    }
   ],
   "source": [
    "daytime_robberies = crimes[(crimes.OFFENSE_CODE_GROUP == 'Robbery') & (crimes.HOUR.isin(range(9, 18)))]\n",
    "daytime_robberies.head(2)"
   ]
  },
  {
   "cell_type": "markdown",
   "id": "061f4cd8",
   "metadata": {},
   "source": [
    "### 1) folium.Marker 으로 표현하기"
   ]
  },
  {
   "cell_type": "code",
   "execution_count": 41,
   "id": "5df5b877",
   "metadata": {},
   "outputs": [],
   "source": [
    "# 배경 맵 만들기\n",
    "m_2 = folium.Map(location=[42.32, -71.0859], tiles='cartodbpositron', zoom_start=13)\n",
    "\n",
    "# 맵에 포인트 추가하기\n",
    "for idx, row in daytime_robberies.iterrows():\n",
    "    Marker([row['Lat'], row['Long']]).add_to(m_2)\n",
    "    \n",
    "m_2"
   ]
  },
  {
   "cell_type": "markdown",
   "id": "8bdb6669",
   "metadata": {},
   "source": [
    "### 2) folium.plugins.MarkerCluster 으로 표현하기"
   ]
  },
  {
   "cell_type": "code",
   "execution_count": 42,
   "id": "d7cef0aa",
   "metadata": {},
   "outputs": [],
   "source": [
    "# 배경 맵 만들기\n",
    "m_3 = folium.Map(location=[42.32, -71.0589], tiles='cartodbpositron', zoom_start=13)\n",
    "\n",
    "# 포인트 추가하기\n",
    "mc = MarkerCluster()\n",
    "for idx, row in daytime_robberies.iterrows():\n",
    "    if not math.isnan(row['Long']) and not math.isnan(row['Lat']):\n",
    "        mc.add_child(Marker([row['Lat'], row['Long']]))\n",
    "\n",
    "m_3.add_child(mc)\n",
    "\n",
    "m_3"
   ]
  },
  {
   "cell_type": "markdown",
   "id": "4f08faf0",
   "metadata": {},
   "source": [
    "### 3) Bubble 맵으로 표현하기\n",
    "folium.Circle() 을 통해서 원형의 버블을 생성"
   ]
  },
  {
   "cell_type": "code",
   "execution_count": 7,
   "id": "37f16e4e",
   "metadata": {},
   "outputs": [
    {
     "data": {
      "text/html": [
       "<div>\n",
       "<style scoped>\n",
       "    .dataframe tbody tr th:only-of-type {\n",
       "        vertical-align: middle;\n",
       "    }\n",
       "\n",
       "    .dataframe tbody tr th {\n",
       "        vertical-align: top;\n",
       "    }\n",
       "\n",
       "    .dataframe thead th {\n",
       "        text-align: right;\n",
       "    }\n",
       "</style>\n",
       "<table border=\"1\" class=\"dataframe\">\n",
       "  <thead>\n",
       "    <tr style=\"text-align: right;\">\n",
       "      <th></th>\n",
       "      <th>INCIDENT_NUMBER</th>\n",
       "      <th>OFFENSE_CODE</th>\n",
       "      <th>OFFENSE_CODE_GROUP</th>\n",
       "      <th>OFFENSE_DESCRIPTION</th>\n",
       "      <th>DISTRICT</th>\n",
       "      <th>REPORTING_AREA</th>\n",
       "      <th>SHOOTING</th>\n",
       "      <th>OCCURRED_ON_DATE</th>\n",
       "      <th>YEAR</th>\n",
       "      <th>MONTH</th>\n",
       "      <th>DAY_OF_WEEK</th>\n",
       "      <th>HOUR</th>\n",
       "      <th>UCR_PART</th>\n",
       "      <th>STREET</th>\n",
       "      <th>Lat</th>\n",
       "      <th>Long</th>\n",
       "      <th>Location</th>\n",
       "    </tr>\n",
       "  </thead>\n",
       "  <tbody>\n",
       "    <tr>\n",
       "      <th>299</th>\n",
       "      <td>I182070598</td>\n",
       "      <td>311</td>\n",
       "      <td>Robbery</td>\n",
       "      <td>ROBBERY - COMMERCIAL</td>\n",
       "      <td>A15</td>\n",
       "      <td>60</td>\n",
       "      <td>NaN</td>\n",
       "      <td>2018-09-02 17:15:00</td>\n",
       "      <td>2018</td>\n",
       "      <td>9</td>\n",
       "      <td>Sunday</td>\n",
       "      <td>17</td>\n",
       "      <td>Part One</td>\n",
       "      <td>RUTHERFORD AVE</td>\n",
       "      <td>42.371673</td>\n",
       "      <td>-71.063264</td>\n",
       "      <td>(42.37167264, -71.06326413)</td>\n",
       "    </tr>\n",
       "    <tr>\n",
       "      <th>527</th>\n",
       "      <td>I182070342</td>\n",
       "      <td>381</td>\n",
       "      <td>Robbery</td>\n",
       "      <td>ROBBERY - CAR JACKING</td>\n",
       "      <td>E18</td>\n",
       "      <td>490</td>\n",
       "      <td>NaN</td>\n",
       "      <td>2018-09-01 17:05:00</td>\n",
       "      <td>2018</td>\n",
       "      <td>9</td>\n",
       "      <td>Saturday</td>\n",
       "      <td>17</td>\n",
       "      <td>Part One</td>\n",
       "      <td>CUMMINS HWY</td>\n",
       "      <td>42.276453</td>\n",
       "      <td>-71.112980</td>\n",
       "      <td>(42.27645319, -71.11297971)</td>\n",
       "    </tr>\n",
       "  </tbody>\n",
       "</table>\n",
       "</div>"
      ],
      "text/plain": [
       "    INCIDENT_NUMBER  OFFENSE_CODE OFFENSE_CODE_GROUP    OFFENSE_DESCRIPTION  \\\n",
       "299      I182070598           311            Robbery   ROBBERY - COMMERCIAL   \n",
       "527      I182070342           381            Robbery  ROBBERY - CAR JACKING   \n",
       "\n",
       "    DISTRICT REPORTING_AREA SHOOTING     OCCURRED_ON_DATE  YEAR  MONTH  \\\n",
       "299      A15             60      NaN  2018-09-02 17:15:00  2018      9   \n",
       "527      E18            490      NaN  2018-09-01 17:05:00  2018      9   \n",
       "\n",
       "    DAY_OF_WEEK  HOUR  UCR_PART          STREET        Lat       Long  \\\n",
       "299      Sunday    17  Part One  RUTHERFORD AVE  42.371673 -71.063264   \n",
       "527    Saturday    17  Part One     CUMMINS HWY  42.276453 -71.112980   \n",
       "\n",
       "                        Location  \n",
       "299  (42.37167264, -71.06326413)  \n",
       "527  (42.27645319, -71.11297971)  "
      ]
     },
     "execution_count": 7,
     "metadata": {},
     "output_type": "execute_result"
    }
   ],
   "source": [
    "daytime_robberies.head(2)"
   ]
  },
  {
   "cell_type": "code",
   "execution_count": 8,
   "id": "b94e5b85",
   "metadata": {},
   "outputs": [
    {
     "data": {
      "text/plain": [
       "INCIDENT_NUMBER                         I182070342\n",
       "OFFENSE_CODE                                   381\n",
       "OFFENSE_CODE_GROUP                         Robbery\n",
       "OFFENSE_DESCRIPTION          ROBBERY - CAR JACKING\n",
       "DISTRICT                                       E18\n",
       "REPORTING_AREA                                 490\n",
       "SHOOTING                                       NaN\n",
       "OCCURRED_ON_DATE               2018-09-01 17:05:00\n",
       "YEAR                                          2018\n",
       "MONTH                                            9\n",
       "DAY_OF_WEEK                               Saturday\n",
       "HOUR                                            17\n",
       "UCR_PART                                  Part One\n",
       "STREET                                 CUMMINS HWY\n",
       "Lat                                      42.276453\n",
       "Long                                     -71.11298\n",
       "Location               (42.27645319, -71.11297971)\n",
       "Name: 527, dtype: object"
      ]
     },
     "execution_count": 8,
     "metadata": {},
     "output_type": "execute_result"
    }
   ],
   "source": [
    "daytime_robberies.iloc[1]"
   ]
  },
  {
   "cell_type": "code",
   "execution_count": 43,
   "id": "f7e3aa53",
   "metadata": {},
   "outputs": [],
   "source": [
    "# 배경맵\n",
    "m_4 = folium.Map(location=[42.32, -71.0589], tiles='cartodbpositron', zoom_start=13)\n",
    "\n",
    "def color_producer(val):\n",
    "    if val <= 12:\n",
    "        return 'forestgreen'\n",
    "    else:\n",
    "        return 'darkred'\n",
    "    \n",
    "# 기본 배경맵에 버블맵 추가하기\n",
    "for i in range(0, len(daytime_robberies)):\n",
    "    Circle(\n",
    "        location=[daytime_robberies.iloc[i]['Lat'], daytime_robberies.iloc[i]['Long']],\n",
    "        radius=20,\n",
    "        color=color_producer(daytime_robberies.iloc[i]['HOUR'])).add_to(m_4)\n",
    "    \n",
    "m_4"
   ]
  },
  {
   "cell_type": "markdown",
   "id": "c6892359",
   "metadata": {},
   "source": [
    "### 4) Heatmap 만들기\n",
    "히트맵 지도를 만들기 위해서는 `folium.plugins.HeatMap()`을 사용해야 한다. 이를 통해서 도시에서 발생한 서로 다른 지역간의 범죄의 밀집도를 확인할 수 있다."
   ]
  },
  {
   "cell_type": "code",
   "execution_count": 44,
   "id": "b1503e16",
   "metadata": {},
   "outputs": [],
   "source": [
    "# 배경맵 만들기\n",
    "m_5 = folium.Map(location=[42.32, -71.0589], tiles='cartodbpositron', zoom_start=12)\n",
    "\n",
    "# 배경맵에 히트맵 추가하기\n",
    "HeatMap(data=crimes[['Lat', 'Long']], radius=20).add_to(m_5)\n",
    "\n",
    "m_5"
   ]
  },
  {
   "cell_type": "markdown",
   "id": "a21513ab",
   "metadata": {},
   "source": [
    "위에 코드를 통해서 `folium.plugins.HeatMap()`을 사용하기 위해서는 아래와 같은 조건이 필요\n",
    "- 시각 표현을 위해 지리적 위치가 포함된 데이터가 존재해야 함\n",
    "- `radius`는 히트맵의 표현 강도를 조절 가능함"
   ]
  },
  {
   "cell_type": "markdown",
   "id": "b5886a01",
   "metadata": {},
   "source": [
    "### 5) Choropleth Maps(등치지역도) 표현하기\n",
    "지역적으로 발생하는 범죄를 확인하기 위해 등치지역도를 제작"
   ]
  },
  {
   "cell_type": "code",
   "execution_count": 11,
   "id": "2de1b52d",
   "metadata": {},
   "outputs": [
    {
     "data": {
      "text/html": [
       "<div>\n",
       "<style scoped>\n",
       "    .dataframe tbody tr th:only-of-type {\n",
       "        vertical-align: middle;\n",
       "    }\n",
       "\n",
       "    .dataframe tbody tr th {\n",
       "        vertical-align: top;\n",
       "    }\n",
       "\n",
       "    .dataframe thead th {\n",
       "        text-align: right;\n",
       "    }\n",
       "</style>\n",
       "<table border=\"1\" class=\"dataframe\">\n",
       "  <thead>\n",
       "    <tr style=\"text-align: right;\">\n",
       "      <th></th>\n",
       "      <th>geometry</th>\n",
       "    </tr>\n",
       "    <tr>\n",
       "      <th>DISTRICT</th>\n",
       "      <th></th>\n",
       "    </tr>\n",
       "  </thead>\n",
       "  <tbody>\n",
       "    <tr>\n",
       "      <th>A15</th>\n",
       "      <td>MULTIPOLYGON (((-71.07416 42.39051, -71.07415 ...</td>\n",
       "    </tr>\n",
       "    <tr>\n",
       "      <th>A7</th>\n",
       "      <td>MULTIPOLYGON (((-70.99644 42.39557, -70.99644 ...</td>\n",
       "    </tr>\n",
       "    <tr>\n",
       "      <th>A1</th>\n",
       "      <td>POLYGON ((-71.052 42.36884, -71.05169 42.3687,...</td>\n",
       "    </tr>\n",
       "    <tr>\n",
       "      <th>C6</th>\n",
       "      <td>POLYGON ((-71.04406 42.35403, -71.04412 42.353...</td>\n",
       "    </tr>\n",
       "    <tr>\n",
       "      <th>D4</th>\n",
       "      <td>POLYGON ((-71.07416 42.35724, -71.07359 42.357...</td>\n",
       "    </tr>\n",
       "  </tbody>\n",
       "</table>\n",
       "</div>"
      ],
      "text/plain": [
       "                                                   geometry\n",
       "DISTRICT                                                   \n",
       "A15       MULTIPOLYGON (((-71.07416 42.39051, -71.07415 ...\n",
       "A7        MULTIPOLYGON (((-70.99644 42.39557, -70.99644 ...\n",
       "A1        POLYGON ((-71.052 42.36884, -71.05169 42.3687,...\n",
       "C6        POLYGON ((-71.04406 42.35403, -71.04412 42.353...\n",
       "D4        POLYGON ((-71.07416 42.35724, -71.07359 42.357..."
      ]
     },
     "execution_count": 11,
     "metadata": {},
     "output_type": "execute_result"
    }
   ],
   "source": [
    "# 보스턴 경찰 경계 데이터 불러오기\n",
    "districts_full = gpd.read_file(\"../../01_data/Police_Districts/Police_Districts/Police_Districts.shp\")\n",
    "\n",
    "# 구역으로 인덱스를 재설정\n",
    "districts = districts_full[['DISTRICT', 'geometry']].set_index('DISTRICT')\n",
    "districts.head()"
   ]
  },
  {
   "cell_type": "code",
   "execution_count": 12,
   "id": "9626a37a",
   "metadata": {},
   "outputs": [
    {
     "data": {
      "text/plain": [
       "DISTRICT\n",
       "D4     2885\n",
       "B2     2231\n",
       "A1     2130\n",
       "C11    1899\n",
       "B3     1421\n",
       "Name: count, dtype: int64"
      ]
     },
     "execution_count": 12,
     "metadata": {},
     "output_type": "execute_result"
    }
   ],
   "source": [
    "# 구역별로 발생한 범죄 횟수를 시리즈 형태로 변환해서 저장\n",
    "plot_dict = crimes.DISTRICT.value_counts()\n",
    "\n",
    "plot_dict.head()"
   ]
  },
  {
   "cell_type": "code",
   "execution_count": 45,
   "id": "2bc14e34",
   "metadata": {
    "scrolled": true
   },
   "outputs": [],
   "source": [
    "# 배경맵 생성\n",
    "m_6 = folium.Map(location=[42.32, -71.0589], tiles='cartodbpositron', zoom_start=12)\n",
    "\n",
    "# 등치지역도를 배경맵에 추가\n",
    "Choropleth(geo_data=districts.__geo_interface__,\n",
    "          data=plot_dict,\n",
    "          key_on='feature.id',\n",
    "          fill_color='YlGnBu',\n",
    "          legend_name='주요 범죄 발생현황 (Jan-Aug 2018)').add_to(m_6)\n",
    "\n",
    "m_6"
   ]
  },
  {
   "cell_type": "markdown",
   "id": "7a3ae8b5",
   "metadata": {},
   "source": [
    "`folium.Choropleth()`는 다음과 같은 조건이 요구\n",
    "- `geo_data`는 지리적 경계를 표현할 수 있어야 함\n",
    "- `data`는 판다스 시리즈 타입으로 받아야 함\n",
    "- `key_on`은 항상 `feature.id`를 설정해야 함"
   ]
  }
 ],
 "metadata": {
  "kernelspec": {
   "display_name": "Python 3 (ipykernel)",
   "language": "python",
   "name": "python3"
  },
  "language_info": {
   "codemirror_mode": {
    "name": "ipython",
    "version": 3
   },
   "file_extension": ".py",
   "mimetype": "text/x-python",
   "name": "python",
   "nbconvert_exporter": "python",
   "pygments_lexer": "ipython3",
   "version": "3.11.3"
  }
 },
 "nbformat": 4,
 "nbformat_minor": 5
}
